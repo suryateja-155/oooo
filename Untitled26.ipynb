{
 "cells": [
  {
   "cell_type": "code",
   "execution_count": 3,
   "id": "1cbad87e-36f5-4ebd-b1ac-30f716b99a3f",
   "metadata": {},
   "outputs": [
    {
     "ename": "SyntaxError",
     "evalue": "unterminated string literal (detected at line 12) (1981416930.py, line 12)",
     "output_type": "error",
     "traceback": [
      "\u001b[1;36m  Cell \u001b[1;32mIn[3], line 12\u001b[1;36m\u001b[0m\n\u001b[1;33m    print(total positive numbers:\",pos)\u001b[0m\n\u001b[1;37m                                 ^\u001b[0m\n\u001b[1;31mSyntaxError\u001b[0m\u001b[1;31m:\u001b[0m unterminated string literal (detected at line 12)\n"
     ]
    }
   ],
   "source": [
    "n=int(input())\n",
    "count=0\n",
    "pos=0\n",
    "neg=0\n",
    "while count<=n:\n",
    "   num=int(input())\n",
    "   if num>=0:\n",
    "       pos+=1\n",
    "   elif num<0:\n",
    "       neg+=1\n",
    "   count+=1\n",
    "print(total positive numbers:\",pos)\n",
    "print(total negative numbers:\",neg)\n"
   ]
  }
 ],
 "metadata": {
  "kernelspec": {
   "display_name": "Python 3 (ipykernel)",
   "language": "python",
   "name": "python3"
  },
  "language_info": {
   "codemirror_mode": {
    "name": "ipython",
    "version": 3
   },
   "file_extension": ".py",
   "mimetype": "text/x-python",
   "name": "python",
   "nbconvert_exporter": "python",
   "pygments_lexer": "ipython3",
   "version": "3.12.4"
  }
 },
 "nbformat": 4,
 "nbformat_minor": 5
}
